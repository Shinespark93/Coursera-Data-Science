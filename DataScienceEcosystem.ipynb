{
 "cells": [
  {
   "cell_type": "markdown",
   "metadata": {},
   "source": [
    "<center>\n",
    "    <img src=\"https://cf-courses-data.s3.us.cloud-object-storage.appdomain.cloud/IBMDeveloperSkillsNetwork-DS0105EN-SkillsNetwork/labs/Module2/images/SN_web_lightmode.png\" width=\"300\" alt=\"cognitiveclass.ai logo\">\n",
    "</center>\n"
   ]
  },
  {
   "cell_type": "markdown",
   "metadata": {},
   "source": [
    "#### Add your code below following the instructions given in the course\n"
   ]
  },
  {
   "cell_type": "markdown",
   "metadata": {},
   "source": [
    "# Data Science Tools and Ecosystem"
   ]
  },
  {
   "cell_type": "markdown",
   "metadata": {},
   "source": [
    "This notebook summarizes a subset of Data Science Tools and Ecosystems which have been discussed in the course so far."
   ]
  },
  {
   "cell_type": "markdown",
   "metadata": {},
   "source": [
    "__Objectives__\n",
    "- List of popular Data Scientist Languages\n",
    "- List of popular Data Scientist (Python) Libraries\n",
    "- List of open source Development Enviornments for Data Scientist\n",
    "- Use of Python: Basic Arithmetic\n",
    "- Use of Python: Converting minutes to Hours\n",
    "- Author Credits"
   ]
  },
  {
   "cell_type": "markdown",
   "metadata": {},
   "source": [
    "Some popular languages used by Data Scientists include:\n",
    "1. Python\n",
    "2. Java\n",
    "3. R\n",
    "4. Scala\n",
    "5. C++\n",
    "6. JavaScript\n",
    "7. SQL\n",
    "8. Julia"
   ]
  },
  {
   "cell_type": "markdown",
   "metadata": {},
   "source": [
    "Some popular (Python) libraries used by Data Scientists include:\n",
    "1. Pandas\n",
    "2. NumPy\n",
    "3. Matplotlib\n",
    "4. Seaborn\n",
    "5. Scilit\n",
    "6. Keras\n",
    "7. Tensorflow\n",
    "8. PyTorch"
   ]
  },
  {
   "cell_type": "markdown",
   "metadata": {},
   "source": [
    "|Data Science Tools|\n",
    "|---|\n",
    "|Jupyter|\n",
    "|Jupyter Lab|\n",
    "|Apache Zeppelin|\n",
    "|RStudio|\n",
    "|Spyder|"
   ]
  },
  {
   "cell_type": "markdown",
   "metadata": {},
   "source": [
    "### Here are a few examples of how Python can be utilized to evalutate arithmetic expressions"
   ]
  },
  {
   "cell_type": "code",
   "execution_count": 2,
   "metadata": {},
   "outputs": [
    {
     "data": {
      "text/plain": [
       "17"
      ]
     },
     "execution_count": 2,
     "metadata": {},
     "output_type": "execute_result"
    }
   ],
   "source": [
    "## This expression shows how to Python can be used to evaluate simple arithmetic.\n",
    "(3*4)+5"
   ]
  },
  {
   "cell_type": "code",
   "execution_count": 21,
   "metadata": {},
   "outputs": [
    {
     "name": "stdout",
     "output_type": "stream",
     "text": [
      "Hours in 200 minutes:\n",
      "3 hours and 20 minutes\n"
     ]
    }
   ],
   "source": [
    "## This expression evaluates minutes given (in this case 200) into hours by dividing by 60 (the number of minutes in an hour).\n",
    "\n",
    "## Here we define a variable for the number of minutes, in our case 200 minutes.\n",
    "minutes=200\n",
    "\n",
    "## Here we define a variable for the constant of 60 minutes per 1 hour. \n",
    "minutes_per_hour=60\n",
    "\n",
    "## This expression will return only the integer value of 200/60 which would be the number of hours (3 hours) and store it in the variable \"hours\".\n",
    "hours=minutes//minutes_per_hour\n",
    "\n",
    "## This expression will return only the remainder value of 200/60 which would be the number of minutes which do not make a full hour (in our case 20 minutes) and store it in the variable \"remaining_minutes\".\n",
    "remaining_minutes=minutes%minutes_per_hour\n",
    "\n",
    "## These final lines use the variables created and simple strings to express the data in a more visually appealing way.\n",
    "print('Hours in', minutes, 'minutes:')\n",
    "print(hours, 'hours and', remaining_minutes, 'minutes')"
   ]
  },
  {
   "cell_type": "markdown",
   "metadata": {},
   "source": [
    "## Author\n",
    "Jason Pallas"
   ]
  },
  {
   "cell_type": "code",
   "execution_count": null,
   "metadata": {},
   "outputs": [],
   "source": []
  }
 ],
 "metadata": {
  "kernelspec": {
   "display_name": "Python 3 (ipykernel)",
   "language": "python",
   "name": "python3"
  },
  "language_info": {
   "codemirror_mode": {
    "name": "ipython",
    "version": 3
   },
   "file_extension": ".py",
   "mimetype": "text/x-python",
   "name": "python",
   "nbconvert_exporter": "python",
   "pygments_lexer": "ipython3",
   "version": "3.12.8"
  }
 },
 "nbformat": 4,
 "nbformat_minor": 4
}
